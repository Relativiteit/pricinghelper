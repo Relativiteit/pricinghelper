{
 "cells": [
  {
   "cell_type": "code",
   "execution_count": null,
   "metadata": {},
   "outputs": [],
   "source": [
    "# Import scraping tools load initial page \n",
    "from bs4 import BeautifulSoup\n",
    "import requests\n",
    "\n",
    "url = \"https://opencircuit.nl/list/arduino\"\n",
    "\n",
    "page = requests.get(url)\n",
    "\n",
    "soup = BeautifulSoup(page.text, 'html')\n",
    "\n",
    "# print(soup)"
   ]
  },
  {
   "cell_type": "code",
   "execution_count": null,
   "metadata": {},
   "outputs": [],
   "source": [
    "# Get table that holds product information \n",
    "table = soup.find(\"div\", {'class':'CategoryData' })\n",
    "if table: \n",
    "    li_tags = table.find_all('li')\n",
    "else:\n",
    "    li_tags = [] \n",
    "\n",
    "# Print frist 3 items to inspects structure \n",
    "for i in range(min(3, len(li_tags))):\n",
    "    print(li_tags[i].text.strip(), \"\\n\" + \"-\"*80)"
   ]
  },
  {
   "cell_type": "code",
   "execution_count": null,
   "metadata": {},
   "outputs": [],
   "source": [
    "import re\n",
    "# Store extracted data \n",
    "products = [] \n",
    "\n",
    "# Parsing function \n",
    "for li in li_tags:\n",
    "    text = li.text.strip()\n",
    "\n",
    "    # Extract product name \n",
    "    name_match = re.match(r\"^(.*?)-\", text)\n",
    "    name = name_match.group(1).strip() if name_match else text.split('\\n')[0].strip()\n",
    "\n",
    "    # Extract price \n",
    "    price_match = re.search(r\"€\\s?(\\d+,\\d+)\", text)\n",
    "    price = price_match.group(0) if price_match else \"N/A\"\n",
    "\n",
    "    # Extract availability \n",
    "    if \"Direct leverbaar\" in text:\n",
    "        availability = \"In stock\"\n",
    "    elif \"Niet op voorraad\" in text:\n",
    "        availability = \"Out of stock\"\n",
    "    else:\n",
    "        availability = \"Unknown \"\n",
    "\n",
    "    \n",
    "    # Extract description (everything between name and price)\n",
    "    desc_start = text.find(name) + len(name)\n",
    "    desc_end = text.find(price) if price != \"N/A\" else len(text)\n",
    "    description = text[desc_start:desc_end].strip(\" -\\n\")\n",
    "\n",
    "    # Append to product list \n",
    "    products.append({\"Name\": name, \"Description\": description, \"Price\":price, \"Availability\": availability})\n",
    "\n",
    "    \n",
    "\n"
   ]
  },
  {
   "cell_type": "code",
   "execution_count": null,
   "metadata": {},
   "outputs": [],
   "source": [
    "# Convert to DataFrame\n",
    "import pandas as pd \n",
    "\n",
    "df = pd.DataFrame(products)\n",
    "df.head() # Show first few rows "
   ]
  },
  {
   "cell_type": "code",
   "execution_count": null,
   "metadata": {},
   "outputs": [],
   "source": [
    "# Save Dat to CSV for you BOM \n",
    "df.to_csv(\"bom_prices.csv\", index=False)\n",
    "print(\"Saved to 'bom_prices.csv' :) \")"
   ]
  },
  {
   "cell_type": "code",
   "execution_count": null,
   "metadata": {},
   "outputs": [],
   "source": [
    "# show DataFrame\n",
    "display(df)"
   ]
  },
  {
   "cell_type": "code",
   "execution_count": null,
   "metadata": {},
   "outputs": [],
   "source": []
  },
  {
   "cell_type": "markdown",
   "metadata": {},
   "source": []
  }
 ],
 "metadata": {
  "kernelspec": {
   "display_name": ".venv",
   "language": "python",
   "name": "python3"
  },
  "language_info": {
   "codemirror_mode": {
    "name": "ipython",
    "version": 3
   },
   "file_extension": ".py",
   "mimetype": "text/x-python",
   "name": "python",
   "nbconvert_exporter": "python",
   "pygments_lexer": "ipython3",
   "version": "3.12.0"
  }
 },
 "nbformat": 4,
 "nbformat_minor": 2
}
